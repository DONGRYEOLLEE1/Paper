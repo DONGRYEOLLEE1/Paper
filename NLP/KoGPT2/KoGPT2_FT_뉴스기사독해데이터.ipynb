{
  "cells": [
    {
      "cell_type": "code",
      "execution_count": null,
      "metadata": {
        "id": "M12dTxN3ib3F"
      },
      "outputs": [],
      "source": [
        "!pip install transformers"
      ]
    },
    {
      "cell_type": "code",
      "execution_count": 2,
      "metadata": {
        "colab": {
          "base_uri": "https://localhost:8080/"
        },
        "id": "GujuZr0yh4nu",
        "outputId": "aff208c7-a6ef-45b6-beed-d540a4de377b"
      },
      "outputs": [
        {
          "name": "stdout",
          "output_type": "stream",
          "text": [
            "Drive already mounted at /content/drive; to attempt to forcibly remount, call drive.mount(\"/content/drive\", force_remount=True).\n"
          ]
        }
      ],
      "source": [
        "from google.colab import drive\n",
        "drive.mount('/content/drive')"
      ]
    },
    {
      "cell_type": "code",
      "execution_count": 3,
      "metadata": {
        "colab": {
          "base_uri": "https://localhost:8080/"
        },
        "id": "Mym5PiVoh-Gu",
        "outputId": "5fb4ce1a-7b88-4542-ab99-414115daf788"
      },
      "outputs": [
        {
          "name": "stdout",
          "output_type": "stream",
          "text": [
            "1.13.1+cu116\n",
            "4.27.3\n",
            "2.7.11\n"
          ]
        }
      ],
      "source": [
        "import torch\n",
        "import transformers\n",
        "from transformers import AutoModelWithLMHead, PreTrainedTokenizerFast\n",
        "from fastai.text.all import *\n",
        "import fastai\n",
        "import re\n",
        "import pickle\n",
        "import string\n",
        "\n",
        "print(torch.__version__)\n",
        "print(transformers.__version__)\n",
        "print( fastai.__version__)"
      ]
    },
    {
      "cell_type": "code",
      "execution_count": 4,
      "metadata": {
        "id": "UVW7dPRAiyr3"
      },
      "outputs": [],
      "source": [
        "class DropOutput(Callback):\n",
        "    def after_pred(self):\n",
        "        self.learn.pred = self.pred[0]\n",
        "\n",
        "class TransformersTokenizer(Transform):\n",
        "    def __init__(self, tokenizer):\n",
        "        self.tokenizer = tokenizer\n",
        "\n",
        "    def encodes(self, x):\n",
        "        tok = self.tokenizer.tokenize(x)\n",
        "        return tensor(self.tokenizer.convert_tokens_to_ids(tok))\n",
        "\n",
        "    def decodes(self, x):\n",
        "        return TitledStr(self.tokenizer.decode(x.cpu().numpy()))"
      ]
    },
    {
      "cell_type": "code",
      "execution_count": 5,
      "metadata": {
        "colab": {
          "base_uri": "https://localhost:8080/"
        },
        "id": "_F5cCR_th-gr",
        "outputId": "443728ca-ec8d-404f-f6ba-ecf01c38e3fd"
      },
      "outputs": [
        {
          "name": "stdout",
          "output_type": "stream",
          "text": [
            "cuda\n"
          ]
        }
      ],
      "source": [
        "device = 'cuda' if torch.cuda.is_available() else 'cpu'\n",
        "print(device)"
      ]
    },
    {
      "cell_type": "code",
      "execution_count": 6,
      "metadata": {
        "colab": {
          "base_uri": "https://localhost:8080/"
        },
        "id": "7XXNpMORh-6y",
        "outputId": "4fdcfe80-cfad-465a-883d-1404176685de"
      },
      "outputs": [
        {
          "name": "stderr",
          "output_type": "stream",
          "text": [
            "The tokenizer class you load from this checkpoint is not the same type as the class this function is called from. It may result in unexpected tokenization. \n",
            "The tokenizer class you load from this checkpoint is 'GPT2Tokenizer'. \n",
            "The class this function is called from is 'PreTrainedTokenizerFast'.\n",
            "/usr/local/lib/python3.9/dist-packages/transformers/models/auto/modeling_auto.py:1295: FutureWarning: The class `AutoModelWithLMHead` is deprecated and will be removed in a future version. Please use `AutoModelForCausalLM` for causal language models, `AutoModelForMaskedLM` for masked language models and `AutoModelForSeq2SeqLM` for encoder-decoder models.\n",
            "  warnings.warn(\n"
          ]
        }
      ],
      "source": [
        "#download model and tokenizer\n",
        "tokenizer = PreTrainedTokenizerFast.from_pretrained(\"skt/kogpt2-base-v2\",\n",
        "  bos_token='</s>', eos_token='</s>', unk_token='<unk>',\n",
        "  pad_token='<pad>', mask_token='<mask>')\n",
        "model = AutoModelWithLMHead.from_pretrained(\"skt/kogpt2-base-v2\")\n",
        "#test tokenizer\n",
        "# print(tokenizer.tokenize(\"안녕하세요. 한국어 GPT-2 입니다.😤:)l^o\"))\n",
        "\n",
        "#test model ouput\n",
        "# text = \"\"\"위치추적 전자장치(전자발찌) 훼손 전후로 여성 2명을 잇달아 살해한 \"\"\"\n",
        "# input_ids = tokenizer.encode(text)\n",
        "# gen_ids = model.generate(torch.tensor([input_ids]),\n",
        "#                            max_length=128,\n",
        "#                            repetition_penalty=2.0,\n",
        "#                            pad_token_id=tokenizer.pad_token_id,\n",
        "#                            eos_token_id=tokenizer.eos_token_id,\n",
        "#                            bos_token_id=tokenizer.bos_token_id,\n",
        "#                            use_cache=True\n",
        "#                         )\n",
        "# generated = tokenizer.decode(gen_ids[0,:].tolist())\n",
        "# print(generated)"
      ]
    },
    {
      "cell_type": "code",
      "execution_count": 7,
      "metadata": {
        "id": "hsconv7Jh_jc"
      },
      "outputs": [],
      "source": [
        "with open('/content/drive/MyDrive/Colab Notebooks/train.txt', 'rb') as f:\n",
        "    train = pickle.load(f)\n",
        "\n",
        "with open('./drive/MyDrive/Colab Notebooks/validation.txt', 'rb') as f:\n",
        "    valid = pickle.load(f)"
      ]
    },
    {
      "cell_type": "code",
      "execution_count": 8,
      "metadata": {
        "id": "Z0_2hVpqh_2f"
      },
      "outputs": [],
      "source": [
        "tr = pd.DataFrame()\n",
        "vl = pd.DataFrame()\n",
        "ttl = pd.DataFrame()\n",
        "\n",
        "vl['text'] = valid\n",
        "tr['text'] = train\n",
        "\n",
        "ttl = pd.concat([tr, vl]).reset_index(drop = True)"
      ]
    },
    {
      "cell_type": "code",
      "execution_count": 12,
      "metadata": {
        "colab": {
          "base_uri": "https://localhost:8080/",
          "height": 194
        },
        "id": "FYsM5aLOiAGe",
        "outputId": "e6ac3402-35ba-4f5c-e925-2a5858d98fcf"
      },
      "outputs": [
        {
          "name": "stdout",
          "output_type": "stream",
          "text": [
            "136016 17002\n",
            "총 데이터셋 크기 : 153018\n"
          ]
        },
        {
          "data": {
            "text/html": [
              "\n",
              "  <div id=\"df-f0fa2204-2d38-4f34-847d-c87b08790071\">\n",
              "    <div class=\"colab-df-container\">\n",
              "      <div>\n",
              "<style scoped>\n",
              "    .dataframe tbody tr th:only-of-type {\n",
              "        vertical-align: middle;\n",
              "    }\n",
              "\n",
              "    .dataframe tbody tr th {\n",
              "        vertical-align: top;\n",
              "    }\n",
              "\n",
              "    .dataframe thead th {\n",
              "        text-align: right;\n",
              "    }\n",
              "</style>\n",
              "<table border=\"1\" class=\"dataframe\">\n",
              "  <thead>\n",
              "    <tr style=\"text-align: right;\">\n",
              "      <th></th>\n",
              "      <th>text</th>\n",
              "    </tr>\n",
              "  </thead>\n",
              "  <tbody>\n",
              "    <tr>\n",
              "      <th>0</th>\n",
              "      <td>익산시 서부권역 다목적 체육관이 내달 개관을 앞두고 막바지 개관 준비가 한창이다. \\n\\n시에 따르면 시민들의 건강증진과 삶의 질 향상을 위한 생활체육 인프라 확충 등을 위해 지난 2019년 착공된 서부권역 다목적 체육관이 이달 말까지 시설물 준공을 완료하고 다음달부터 본격적인 개관 운영에 들어간다. \\n\\n전문 체육시설인 서부권역 다목적 체육관은 지하 1층과 지상 3층, 연면적 4719㎡ 규모로 총 사업비 124억5000만원이 투입됐다. \\n\\n수영장 6개 레인과 어린이풀장, 다목적실(에어로빅, 요가 등), 체력단련실, 어르신들을 위한 물리ㆍ재활 운동실 등이 들어서며, 수영, 헬스, 요가, 에어로빅, 아쿠아로빅 등 총 5가지 프로그램이 운영될 예정이다. \\n\\n첫 번째로 개관되는 시설은 헬스장이다. \\n\\n다음달 중순부터 회원 신청이 가능하며 체육관에 방문해 신청하면 된다. \\n\\n아울러 시는 코로나19 예방을 위해 소독작업은 물론 체육관 운영시간과 참여 인원을 축소해 운영하는 방안을 계획하고 있다. \\n\\n체육관 전체 소독은 하루 3회로 먼저 개관되는 헬스장의 경우 오후 1시부터 2시까지 1시간 동안 브레이크타임을 도입해 기구와 라커룸 등의 소독작...</td>\n",
              "    </tr>\n",
              "  </tbody>\n",
              "</table>\n",
              "</div>\n",
              "      <button class=\"colab-df-convert\" onclick=\"convertToInteractive('df-f0fa2204-2d38-4f34-847d-c87b08790071')\"\n",
              "              title=\"Convert this dataframe to an interactive table.\"\n",
              "              style=\"display:none;\">\n",
              "        \n",
              "  <svg xmlns=\"http://www.w3.org/2000/svg\" height=\"24px\"viewBox=\"0 0 24 24\"\n",
              "       width=\"24px\">\n",
              "    <path d=\"M0 0h24v24H0V0z\" fill=\"none\"/>\n",
              "    <path d=\"M18.56 5.44l.94 2.06.94-2.06 2.06-.94-2.06-.94-.94-2.06-.94 2.06-2.06.94zm-11 1L8.5 8.5l.94-2.06 2.06-.94-2.06-.94L8.5 2.5l-.94 2.06-2.06.94zm10 10l.94 2.06.94-2.06 2.06-.94-2.06-.94-.94-2.06-.94 2.06-2.06.94z\"/><path d=\"M17.41 7.96l-1.37-1.37c-.4-.4-.92-.59-1.43-.59-.52 0-1.04.2-1.43.59L10.3 9.45l-7.72 7.72c-.78.78-.78 2.05 0 2.83L4 21.41c.39.39.9.59 1.41.59.51 0 1.02-.2 1.41-.59l7.78-7.78 2.81-2.81c.8-.78.8-2.07 0-2.86zM5.41 20L4 18.59l7.72-7.72 1.47 1.35L5.41 20z\"/>\n",
              "  </svg>\n",
              "      </button>\n",
              "      \n",
              "  <style>\n",
              "    .colab-df-container {\n",
              "      display:flex;\n",
              "      flex-wrap:wrap;\n",
              "      gap: 12px;\n",
              "    }\n",
              "\n",
              "    .colab-df-convert {\n",
              "      background-color: #E8F0FE;\n",
              "      border: none;\n",
              "      border-radius: 50%;\n",
              "      cursor: pointer;\n",
              "      display: none;\n",
              "      fill: #1967D2;\n",
              "      height: 32px;\n",
              "      padding: 0 0 0 0;\n",
              "      width: 32px;\n",
              "    }\n",
              "\n",
              "    .colab-df-convert:hover {\n",
              "      background-color: #E2EBFA;\n",
              "      box-shadow: 0px 1px 2px rgba(60, 64, 67, 0.3), 0px 1px 3px 1px rgba(60, 64, 67, 0.15);\n",
              "      fill: #174EA6;\n",
              "    }\n",
              "\n",
              "    [theme=dark] .colab-df-convert {\n",
              "      background-color: #3B4455;\n",
              "      fill: #D2E3FC;\n",
              "    }\n",
              "\n",
              "    [theme=dark] .colab-df-convert:hover {\n",
              "      background-color: #434B5C;\n",
              "      box-shadow: 0px 1px 3px 1px rgba(0, 0, 0, 0.15);\n",
              "      filter: drop-shadow(0px 1px 2px rgba(0, 0, 0, 0.3));\n",
              "      fill: #FFFFFF;\n",
              "    }\n",
              "  </style>\n",
              "\n",
              "      <script>\n",
              "        const buttonEl =\n",
              "          document.querySelector('#df-f0fa2204-2d38-4f34-847d-c87b08790071 button.colab-df-convert');\n",
              "        buttonEl.style.display =\n",
              "          google.colab.kernel.accessAllowed ? 'block' : 'none';\n",
              "\n",
              "        async function convertToInteractive(key) {\n",
              "          const element = document.querySelector('#df-f0fa2204-2d38-4f34-847d-c87b08790071');\n",
              "          const dataTable =\n",
              "            await google.colab.kernel.invokeFunction('convertToInteractive',\n",
              "                                                     [key], {});\n",
              "          if (!dataTable) return;\n",
              "\n",
              "          const docLinkHtml = 'Like what you see? Visit the ' +\n",
              "            '<a target=\"_blank\" href=https://colab.research.google.com/notebooks/data_table.ipynb>data table notebook</a>'\n",
              "            + ' to learn more about interactive tables.';\n",
              "          element.innerHTML = '';\n",
              "          dataTable['output_type'] = 'display_data';\n",
              "          await google.colab.output.renderOutput(dataTable, element);\n",
              "          const docLink = document.createElement('div');\n",
              "          docLink.innerHTML = docLinkHtml;\n",
              "          element.appendChild(docLink);\n",
              "        }\n",
              "      </script>\n",
              "    </div>\n",
              "  </div>\n",
              "  "
            ],
            "text/plain": [
              "                                                                                                                                                                                                                                                                                                                                                                                                                                                                                                                                                                                                                      text\n",
              "0  익산시 서부권역 다목적 체육관이 내달 개관을 앞두고 막바지 개관 준비가 한창이다. \\n\\n시에 따르면 시민들의 건강증진과 삶의 질 향상을 위한 생활체육 인프라 확충 등을 위해 지난 2019년 착공된 서부권역 다목적 체육관이 이달 말까지 시설물 준공을 완료하고 다음달부터 본격적인 개관 운영에 들어간다. \\n\\n전문 체육시설인 서부권역 다목적 체육관은 지하 1층과 지상 3층, 연면적 4719㎡ 규모로 총 사업비 124억5000만원이 투입됐다. \\n\\n수영장 6개 레인과 어린이풀장, 다목적실(에어로빅, 요가 등), 체력단련실, 어르신들을 위한 물리ㆍ재활 운동실 등이 들어서며, 수영, 헬스, 요가, 에어로빅, 아쿠아로빅 등 총 5가지 프로그램이 운영될 예정이다. \\n\\n첫 번째로 개관되는 시설은 헬스장이다. \\n\\n다음달 중순부터 회원 신청이 가능하며 체육관에 방문해 신청하면 된다. \\n\\n아울러 시는 코로나19 예방을 위해 소독작업은 물론 체육관 운영시간과 참여 인원을 축소해 운영하는 방안을 계획하고 있다. \\n\\n체육관 전체 소독은 하루 3회로 먼저 개관되는 헬스장의 경우 오후 1시부터 2시까지 1시간 동안 브레이크타임을 도입해 기구와 라커룸 등의 소독작..."
            ]
          },
          "execution_count": 12,
          "metadata": {},
          "output_type": "execute_result"
        }
      ],
      "source": [
        "print(len(tr), len(vl))\n",
        "print(f'총 데이터셋 크기 : {len(ttl)}')\n",
        "ttl.head(1)"
      ]
    },
    {
      "cell_type": "code",
      "execution_count": 14,
      "metadata": {
        "id": "p4UtYnSWisAp"
      },
      "outputs": [],
      "source": [
        "def learner_func(DATA,\n",
        "                 SPLIT_RATIO,\n",
        "                 TOKENIZER,\n",
        "                 MODEL,\n",
        "                 MODEL_NAME,\n",
        "                 EPOCH = 5):\n",
        "\n",
        "    # Randomly Indexing\n",
        "    num = int(SPLIT_RATIO * len(DATA))\n",
        "\n",
        "    idxs = np.random.randint(0, len(DATA), len(DATA))\n",
        "    idxs_train = idxs[:num]\n",
        "    idxs_val = idxs[num:]\n",
        "\n",
        "    all_text = np.concatenate([DATA.iloc[idxs_train].text.values, DATA.iloc[idxs_val].text.values])\n",
        "    print(f'Length of Dataset: {len(all_text)}')\n",
        "\n",
        "    splits = [list(idxs_train), list(idxs_val)]\n",
        "\n",
        "    # Setting Dataset\n",
        "    tls = TfmdLists(all_text, TransformersTokenizer(TOKENIZER), splits = splits, dl_type = LMDataLoader)\n",
        "\n",
        "    # Params\n",
        "    batch, seq_len = 8, 256\n",
        "\n",
        "    # Dataloader\n",
        "    dls = tls.dataloaders(bs = batch, seq_len = seq_len)\n",
        "\n",
        "    # Fitting\n",
        "    print('------------------------Fitting ----------------------------')\n",
        "    learn = Learner(dls,\n",
        "                    MODEL,\n",
        "                    loss_func = CrossEntropyLossFlat(),\n",
        "                    cbs = [DropOutput],\n",
        "                    metrics = Perplexity()\n",
        "                    ).to_fp16()\n",
        "    lr = learn.lr_find()\n",
        "    print(lr)\n",
        "    learn.fit_one_cycle(EPOCH, lr)\n",
        "    print('-------------------- Fitting Complete -----------------------')\n",
        "\n",
        "    # Model Save\n",
        "    # learn.save(f'/content/drive/MyDrive/Colab Notebooks/{MODEL_NAME}')  ## .pt\n",
        "    learn.model.save_pretrained(f'/content/drive/MyDrive/Colab Notebooks/{MODEL_NAME}')  ## pytorch_model.bin + generation_config.json + config.json"
      ]
    },
    {
      "cell_type": "code",
      "execution_count": 15,
      "metadata": {
        "colab": {
          "base_uri": "https://localhost:8080/",
          "height": 495
        },
        "id": "9bAiw3nQisNK",
        "outputId": "63501c7d-c3e9-40d5-d792-26b4c98e27ec"
      },
      "outputs": [
        {
          "name": "stdout",
          "output_type": "stream",
          "text": [
            "Length of Dataset: 153018\n",
            "------------------------Fitting ----------------------------\n"
          ]
        },
        {
          "data": {
            "text/html": [
              "\n",
              "<style>\n",
              "    /* Turns off some styling */\n",
              "    progress {\n",
              "        /* gets rid of default border in Firefox and Opera. */\n",
              "        border: none;\n",
              "        /* Needs to be in here for Safari polyfill so background images work as expected. */\n",
              "        background-size: auto;\n",
              "    }\n",
              "    progress:not([value]), progress:not([value])::-webkit-progress-bar {\n",
              "        background: repeating-linear-gradient(45deg, #7e7e7e, #7e7e7e 10px, #5c5c5c 10px, #5c5c5c 20px);\n",
              "    }\n",
              "    .progress-bar-interrupted, .progress-bar-interrupted::-webkit-progress-bar {\n",
              "        background: #F44336;\n",
              "    }\n",
              "</style>\n"
            ],
            "text/plain": [
              "<IPython.core.display.HTML object>"
            ]
          },
          "metadata": {},
          "output_type": "display_data"
        },
        {
          "data": {
            "text/html": [],
            "text/plain": [
              "<IPython.core.display.HTML object>"
            ]
          },
          "metadata": {},
          "output_type": "display_data"
        },
        {
          "name": "stdout",
          "output_type": "stream",
          "text": [
            "SuggestedLRs(valley=0.0002290867705596611)\n"
          ]
        },
        {
          "data": {
            "text/html": [
              "\n",
              "<style>\n",
              "    /* Turns off some styling */\n",
              "    progress {\n",
              "        /* gets rid of default border in Firefox and Opera. */\n",
              "        border: none;\n",
              "        /* Needs to be in here for Safari polyfill so background images work as expected. */\n",
              "        background-size: auto;\n",
              "    }\n",
              "    progress:not([value]), progress:not([value])::-webkit-progress-bar {\n",
              "        background: repeating-linear-gradient(45deg, #7e7e7e, #7e7e7e 10px, #5c5c5c 10px, #5c5c5c 20px);\n",
              "    }\n",
              "    .progress-bar-interrupted, .progress-bar-interrupted::-webkit-progress-bar {\n",
              "        background: #F44336;\n",
              "    }\n",
              "</style>\n"
            ],
            "text/plain": [
              "<IPython.core.display.HTML object>"
            ]
          },
          "metadata": {},
          "output_type": "display_data"
        },
        {
          "data": {
            "text/html": [
              "\n",
              "    <div>\n",
              "      <progress value='0' class='' max='1' style='width:300px; height:20px; vertical-align: middle;'></progress>\n",
              "      0.00% [0/1 00:00&lt;?]\n",
              "    </div>\n",
              "    \n",
              "<table border=\"1\" class=\"dataframe\">\n",
              "  <thead>\n",
              "    <tr style=\"text-align: left;\">\n",
              "      <th>epoch</th>\n",
              "      <th>train_loss</th>\n",
              "      <th>valid_loss</th>\n",
              "      <th>perplexity</th>\n",
              "      <th>time</th>\n",
              "    </tr>\n",
              "  </thead>\n",
              "  <tbody>\n",
              "  </tbody>\n",
              "</table><p>\n",
              "\n",
              "    <div>\n",
              "      <progress value='13940' class='' max='21138' style='width:300px; height:20px; vertical-align: middle;'></progress>\n",
              "      65.95% [13940/21138 1:45:16&lt;54:21 3.5883]\n",
              "    </div>\n",
              "    "
            ],
            "text/plain": [
              "<IPython.core.display.HTML object>"
            ]
          },
          "metadata": {},
          "output_type": "display_data"
        },
        {
          "data": {
            "text/html": [
              "<table border=\"1\" class=\"dataframe\">\n",
              "  <thead>\n",
              "    <tr style=\"text-align: left;\">\n",
              "      <th>epoch</th>\n",
              "      <th>train_loss</th>\n",
              "      <th>valid_loss</th>\n",
              "      <th>perplexity</th>\n",
              "      <th>time</th>\n",
              "    </tr>\n",
              "  </thead>\n",
              "  <tbody>\n",
              "    <tr>\n",
              "      <td>0</td>\n",
              "      <td>3.587456</td>\n",
              "      <td>3.326792</td>\n",
              "      <td>27.848866</td>\n",
              "      <td>3:04:54</td>\n",
              "    </tr>\n",
              "  </tbody>\n",
              "</table>"
            ],
            "text/plain": [
              "<IPython.core.display.HTML object>"
            ]
          },
          "metadata": {},
          "output_type": "display_data"
        },
        {
          "name": "stdout",
          "output_type": "stream",
          "text": [
            "-------------------- Fitting Complete -----------------------\n"
          ]
        },
        {
          "data": {
            "image/png": "[encoded data removed]",
            "text/plain": [
              "<Figure size 432x288 with 1 Axes>"
            ]
          },
          "metadata": {
            "needs_background": "light"
          },
          "output_type": "display_data"
        }
      ],
      "source": [
        "learner_func(ttl, 0.8, tokenizer, model, 'kogpt2_newpaper_153k_1epochs', EPOCH = 1)"
      ]
    },
    {
      "cell_type": "code",
      "execution_count": 18,
      "metadata": {
        "colab": {
          "base_uri": "https://localhost:8080/"
        },
        "id": "mePSJQuHgzc-",
        "outputId": "779b6b4c-9784-447f-b39e-2946980006f1"
      },
      "outputs": [
        {
          "data": {
            "text/plain": [
              "<All keys matched successfully>"
            ]
          },
          "execution_count": 18,
          "metadata": {},
          "output_type": "execute_result"
        }
      ],
      "source": [
        "# model = AutoModelWithLMHead.from_pretrained(\"skt/kogpt2-base-v2\")\n",
        "\n",
        "output_model_file = '/content/drive/MyDrive/Colab Notebooks/kogpt2_newpaper_153k_1epochs/pytorch_model.bin'\n",
        "\n",
        "state_dict = torch.load(output_model_file)\n",
        "model.load_state_dict(state_dict)"
      ]
    },
    {
      "cell_type": "code",
      "execution_count": 19,
      "metadata": {
        "id": "HqCX8PAbisau"
      },
      "outputs": [],
      "source": [
        "def inference_fn(PROMPT,\n",
        "                 MAX_LENGTH: int,\n",
        "                 REPETITION_PENALTY: float,\n",
        "                 TOP_P: float,\n",
        "                 TOP_K: int):\n",
        "    prompt = PROMPT,\n",
        "    encode = tokenizer.encode(PROMPT)\n",
        "    inp = tensor(encode)[None].cuda()\n",
        "    output = model.generate(inp,\n",
        "                                  pad_token_id = tokenizer.pad_token_id,\n",
        "                                  eos_token_id = tokenizer.eos_token_id,\n",
        "                                  bos_token_id = tokenizer.bos_token_id,\n",
        "                                  max_length = MAX_LENGTH,\n",
        "                                  repetition_penalty = REPETITION_PENALTY,\n",
        "                                  top_p = TOP_P,\n",
        "                                  top_k = TOP_K,\n",
        "                                  use_cache = True\n",
        "                                  )\n",
        "    \n",
        "    return tokenizer.decode(output[0].cpu().numpy())"
      ]
    },
    {
      "cell_type": "code",
      "execution_count": 23,
      "metadata": {
        "colab": {
          "base_uri": "https://localhost:8080/",
          "height": 71
        },
        "id": "YsLUO7sNj4_j",
        "outputId": "048e0c1d-14fa-49d2-85d1-2e529743902d"
      },
      "outputs": [
        {
          "data": {
            "application/vnd.google.colaboratory.intrinsic+json": {
              "type": "string"
            },
            "text/plain": [
              "'테슬라 주가 전망망 섹션에 대한 기대감이 높아지고 있다. \\n\\n지난해 12월 초 코스피가 사상 최고치를 기록한 뒤 시가총액 상위 종목들의 주가가 급등하면서 투자자들의 관심이 쏠린다. \\n\\n코스피는 지난달 31일부터 이날까지 나흘 연속 상승세를 이어가며 올 들어서도 4거래일 동안 6조원 가까이 올랐다. \\n\\n이날 삼성전자와 SK하이닉스, 현대차 등 대형 IT주들이 일제히 강세를 보였다. \\n\\n특히 최근 반도체 업황 호조로 자동차 부품주가 크게 오른 데 이어 전기전자 업종도 큰 폭으로 뛰어올랐다. \\n\\n현대자동차와 기아 역시 각각 전 거래일 대비 9.29%, 2.04%씩 치솟았다. \\n\\nSK하이닉스(1.55%), LG화학(3.32%) 등도 모두 2.11% 이상 뛰었다. \\n\\n한편 코스닥 지수도 전날보다 7.47포인트(0.96%) 내린 825.88로 마감'"
            ]
          },
          "execution_count": 23,
          "metadata": {},
          "output_type": "execute_result"
        }
      ],
      "source": [
        "prompt = \"\"\" 테슬라 주가 전망 \"\"\"\n",
        "\n",
        "inference_fn(prompt, 200, 1.2, 0.85, 31)"
      ]
    }
  ],
  "metadata": {
    "accelerator": "GPU",
    "colab": {
      "provenance": []
    },
    "gpuClass": "standard",
    "kernelspec": {
      "display_name": "Python 3",
      "name": "python3"
    },
    "language_info": {
      "name": "python"
    }
  },
  "nbformat": 4,
  "nbformat_minor": 0
}
