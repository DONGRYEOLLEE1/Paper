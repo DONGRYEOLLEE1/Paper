{
 "cells": [
  {
   "cell_type": "code",
   "execution_count": 1,
   "metadata": {},
   "outputs": [],
   "source": [
    "import time\n",
    "import torch\n",
    "import torch.nn.functional as F"
   ]
  },
  {
   "cell_type": "code",
   "execution_count": 2,
   "metadata": {},
   "outputs": [],
   "source": [
    "bz = 32\n",
    "seq_len = 2048\n",
    "dims = 64\n",
    "n_heads = 8\n",
    "\n",
    "q = torch.randn(bz, n_heads, seq_len, dims, dtype = torch.float16).cuda()\n",
    "k = torch.randn(bz, n_heads, seq_len, dims, dtype = torch.float16).cuda()\n",
    "v = torch.randn(bz, n_heads, seq_len, dims, dtype = torch.float16).cuda()"
   ]
  },
  {
   "cell_type": "code",
   "execution_count": 3,
   "metadata": {},
   "outputs": [
    {
     "data": {
      "text/plain": [
       "torch.Size([32, 8, 2048, 64])"
      ]
     },
     "execution_count": 3,
     "metadata": {},
     "output_type": "execute_result"
    }
   ],
   "source": [
    "q.shape"
   ]
  },
  {
   "cell_type": "code",
   "execution_count": 4,
   "metadata": {},
   "outputs": [],
   "source": [
    "dropout_rate = 0.2\n",
    "num_trials = 10"
   ]
  },
  {
   "cell_type": "code",
   "execution_count": 7,
   "metadata": {},
   "outputs": [
    {
     "name": "stdout",
     "output_type": "stream",
     "text": [
      "Standard Attention 0.18029260635375977 seconds\n",
      "Flash Attention took 0.05571484565734863 seconds\n"
     ]
    }
   ],
   "source": [
    "# standard attention\n",
    "torch.cuda.synchronize()\n",
    "start_time = time.time()\n",
    "for i in range(num_trials):\n",
    "    attn = q @ k.transpose(-2, -1)\n",
    "    attn = attn.softmax(dim = -1)\n",
    "    attn = F.dropout(attn, p = dropout_rate, training = True)\n",
    "    x = (attn @ v).transpose(1, 2)\n",
    "    \n",
    "torch.cuda.synchronize()\n",
    "print(f\"Standard Attention {time.time() - start_time} seconds\")\n",
    "\n",
    "\n",
    "# flash attention\n",
    "with torch.backends.cuda.sdp_kernel(\n",
    "    enable_flash = True, enable_math = False, enable_mem_efficient = False\n",
    "):\n",
    "    torch.cuda.synchronize()\n",
    "    start_time = time.time()\n",
    "    \n",
    "    for i in range(num_trials):\n",
    "        out = F.scaled_dot_product_attention(q, k, v, dropout_p = dropout_rate)\n",
    "    torch.cuda.synchronize()\n",
    "    print(f\"Flash Attention took {time.time() - start_time} seconds\")"
   ]
  },
  {
   "cell_type": "code",
   "execution_count": null,
   "metadata": {},
   "outputs": [],
   "source": []
  }
 ],
 "metadata": {
  "kernelspec": {
   "display_name": "qlora",
   "language": "python",
   "name": "python3"
  },
  "language_info": {
   "codemirror_mode": {
    "name": "ipython",
    "version": 3
   },
   "file_extension": ".py",
   "mimetype": "text/x-python",
   "name": "python",
   "nbconvert_exporter": "python",
   "pygments_lexer": "ipython3",
   "version": "3.10.6"
  },
  "orig_nbformat": 4
 },
 "nbformat": 4,
 "nbformat_minor": 2
}
